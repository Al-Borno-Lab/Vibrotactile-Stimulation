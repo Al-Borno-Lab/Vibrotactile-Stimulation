{
 "cells": [
  {
   "cell_type": "code",
   "execution_count": 1,
   "metadata": {},
   "outputs": [],
   "source": [
    "from scipy import sparse\n",
    "import numpy as np"
   ]
  },
  {
   "cell_type": "code",
   "execution_count": 2,
   "metadata": {},
   "outputs": [],
   "source": [
    "\n",
    "## Variable that CAN be changed\n",
    "treatment_duration = 60*60  # [s] Vibrotactile stimulation duration\n",
    "n_on_period = 3  # Number of on CR periods\n",
    "n_off_period = 2  # Number of CR periods after on periods\n",
    "dt = 1  # [ms] Time step size\n",
    "n_regions = 5\n",
    "f_burst = 100  # Hz\n",
    "f_cr = 1  # [Hz] Coordinated Reset Frequency\n",
    "\n",
    "## Calculated variables\n",
    "isi =  int(f_burst**(-1) * 1e3)  # [ms] Inter-spike interval - Floor rounding\n",
    "spikes_per_burst = int((f_cr**(-1)*1e3 / 5) / isi)  # Floor rounding\n",
    "n_periods_per_set = n_on_period + n_off_period\n",
    "period_length = f_cr ** (-1)  # [s] Time length per CR duration\n",
    "n_set_in_treatment = int(treatment_duration / (n_periods_per_set * period_length))  # Floor rounding\n",
    "\n",
    "## Catching the vibration motor limitations\n",
    "## - The motors can vibrate at 200 rotations-per-sec, thus we need to make sure\n",
    "##   that the f_burst freq is less than 200.\n",
    "\n",
    "assert f_burst <=200, \"Freq is too high, vibration motor requires freq to be under 200hz.\""
   ]
  },
  {
   "cell_type": "code",
   "execution_count": 3,
   "metadata": {},
   "outputs": [],
   "source": [
    "# Allocate the memory\n",
    "non_zero_row_count = n_set_in_treatment * n_on_period * n_regions * spikes_per_burst\n",
    "column_idx = np.zeros(shape=non_zero_row_count, dtype=int)\n",
    "row_idx = np.zeros(shape=non_zero_row_count, dtype=int)\n",
    "data_array = np.zeros(shape=non_zero_row_count, dtype=int)\n",
    "\n",
    "# Tracking variable\n",
    "global_clock = 0\n",
    "global_idx = 0\n",
    "\n",
    "# Fill the allocated arrays\n",
    "for _ in range(n_set_in_treatment):\n",
    "    for _ in range(n_on_period):\n",
    "        order_of_regions = np.random.choice(n_regions, size=n_regions, replace=False)\n",
    "        # print(order_of_regions)\n",
    "        for region in order_of_regions:\n",
    "            for _ in range(spikes_per_burst):\n",
    "                column_idx[global_idx] = region\n",
    "                row_idx[global_idx] = global_clock\n",
    "                data_array[global_idx] = 1\n",
    "\n",
    "                # print(f\"  {global_idx} ({global_clock}, {region}) = {data_array[global_idx]}\")\n",
    "                global_idx += 1  # Increment for data creation\n",
    "                global_clock += isi\n",
    "\n",
    "    for _ in range(n_off_period):\n",
    "        global_clock += isi * spikes_per_burst * n_regions\n",
    "\n",
    "# Build 2D array\n",
    "treatment_schedule = sparse.csr_array((data_array, (row_idx, column_idx)), dtype=int)\n",
    "temp_mat = np.zeros(shape=(treatment_schedule.shape), dtype=int)\n",
    "treatment_schedule.toarray(out=temp_mat)\n",
    "\n",
    "# Save to CSV\n",
    "np.savetxt(\"treatment_schedule.txt\", X=treatment_schedule.toarray(), \n",
    "           delimiter=',', \n",
    "           fmt=\"%d\")"
   ]
  },
  {
   "cell_type": "code",
   "execution_count": 5,
   "metadata": {},
   "outputs": [],
   "source": [
    "# Sanity Check\n",
    "# print(treatment_schedule.shape)\n",
    "# # print(data_array)\n",
    "# print(\"  row\", row_idx[:20])\n",
    "# print(\"  col\", column_idx[:20])\n",
    "# print(\"  data\", data_array[:20])\n",
    "\n",
    "# print(row_idx.shape, column_idx.shape, data_array.shape)\n",
    "\n",
    "# print(treatment_schedule[0, 0])\n",
    "# print(treatment_schedule.nnz)\n",
    "\n",
    "# print(treatment_schedule.toarray()[0:20, :])"
   ]
  },
  {
   "cell_type": "code",
   "execution_count": 6,
   "metadata": {},
   "outputs": [
    {
     "name": "stdout",
     "output_type": "stream",
     "text": [
      "[[      0       0       0 ...       0       0       0]\n",
      " [      0       0       0 ... 3597985 3597990 3597995]\n",
      " [      0       0       0 ...       0       0       0]\n",
      " [      0       5      10 ...       0       0       0]\n",
      " [      0       0       0 ...       0       0       0]]\n",
      "5\n"
     ]
    },
    {
     "data": {
      "text/plain": [
       "[<matplotlib.collections.EventCollection at 0x166f4e230>,\n",
       " <matplotlib.collections.EventCollection at 0x16ab7ead0>,\n",
       " <matplotlib.collections.EventCollection at 0x17cc4f3d0>,\n",
       " <matplotlib.collections.EventCollection at 0x17e523ee0>,\n",
       " <matplotlib.collections.EventCollection at 0x280108940>]"
      ]
     },
     "execution_count": 6,
     "metadata": {},
     "output_type": "execute_result"
    },
    {
     "data": {
      "image/png": "[encoded data removed]",
      "text/plain": [
       "<Figure size 640x480 with 1 Axes>"
      ]
     },
     "metadata": {},
     "output_type": "display_data"
    }
   ],
   "source": [
    "# Plot\n",
    "import pandas as pd\n",
    "import matplotlib.pyplot as plt\n",
    "\n",
    "window = (0, 2000)  # zoom in window in milliseonds\n",
    "\n",
    "temp = pd.DataFrame({\"time_ms\": row_idx, \"region\": column_idx}, dtype=int)\n",
    "temp = temp.pivot(index=\"time_ms\", columns=\"region\", values=\"time_ms\").fillna(0).astype(int).to_numpy().T\n",
    "print(temp)\n",
    "\n",
    "\n",
    "holding_list = []\n",
    "for i, row in enumerate(temp):\n",
    "    holding_list.append(row[row!=0])\n",
    "\n",
    "print(len(holding_list))\n",
    "\n",
    "fig, ax = plt.subplots()\n",
    "plt.eventplot(holding_list)"
   ]
  },
  {
   "cell_type": "code",
   "execution_count": null,
   "metadata": {},
   "outputs": [],
   "source": []
  }
 ],
 "metadata": {
  "kernelspec": {
   "display_name": "ds",
   "language": "python",
   "name": "python3"
  },
  "language_info": {
   "codemirror_mode": {
    "name": "ipython",
    "version": 3
   },
   "file_extension": ".py",
   "mimetype": "text/x-python",
   "name": "python",
   "nbconvert_exporter": "python",
   "pygments_lexer": "ipython3",
   "version": "3.10.10"
  },
  "orig_nbformat": 4
 },
 "nbformat": 4,
 "nbformat_minor": 2
}
