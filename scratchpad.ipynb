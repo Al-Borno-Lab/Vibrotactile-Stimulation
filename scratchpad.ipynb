{
 "cells": [
  {
   "cell_type": "code",
   "execution_count": 25,
   "metadata": {},
   "outputs": [
    {
     "data": {
      "text/plain": [
       "<module 'src.model.LIFNetwork' from '/Users/anthonylee/Documents/GitHub/Vibrotactile-Stimulation/src/model/LIFNetwork.py'>"
      ]
     },
     "execution_count": 25,
     "metadata": {},
     "output_type": "execute_result"
    }
   ],
   "source": [
    "from src.model import LIFNetwork as lif\n",
    "import numpy as np\n",
    "from importlib import reload\n",
    "\n",
    "reload(lif)"
   ]
  },
  {
   "cell_type": "code",
   "execution_count": 26,
   "metadata": {},
   "outputs": [
    {
     "name": "stdout",
     "output_type": "stream",
     "text": [
      "spike_t_diff\n",
      "s_flag\n",
      "network_W\n",
      "network_conn\n",
      "Multiplication\n",
      "network input\n",
      "spike_t_diff\n",
      "s_flag\n",
      "network_W\n",
      "network_conn\n",
      "Multiplication\n",
      "network input\n",
      "spike_t_diff\n",
      "s_flag\n",
      "network_W\n",
      "network_conn\n",
      "Multiplication\n",
      "network input\n",
      "spike_t_diff\n",
      "s_flag\n",
      "network_W\n",
      "network_conn\n",
      "Multiplication\n",
      "network input\n",
      "spike_t_diff\n",
      "s_flag\n",
      "network_W\n",
      "network_conn\n",
      "Multiplication\n",
      "network input\n",
      "spike_t_diff\n",
      "s_flag\n",
      "network_W\n",
      "network_conn\n",
      "Multiplication\n",
      "network input\n",
      "spike_t_diff\n",
      "s_flag\n",
      "network_W\n",
      "network_conn\n",
      "Multiplication\n",
      "network input\n",
      "spike_t_diff\n",
      "s_flag\n",
      "network_W\n",
      "network_conn\n",
      "Multiplication\n",
      "network input\n",
      "spike_t_diff\n",
      "s_flag\n",
      "network_W\n",
      "network_conn\n",
      "Multiplication\n",
      "network input\n",
      "spike_t_diff\n",
      "s_flag\n",
      "network_W\n",
      "network_conn\n",
      "Multiplication\n",
      "network input\n"
     ]
    },
    {
     "data": {
      "text/plain": [
       "(array([[-52.14192688,  20.        , -50.52717963, -47.46420252,\n",
       "         -46.95123667],\n",
       "        [-52.13274218,  20.        , -50.51746359, -47.45781707,\n",
       "         -46.94524018],\n",
       "        [-52.12356345,  20.        , -50.50775509, -47.45143593,\n",
       "         -46.93924771],\n",
       "        [-52.11439067,  20.        , -50.49805411, -47.44505909,\n",
       "         -46.93325925],\n",
       "        [-52.10522386,  20.        , -50.48836066, -47.43868656,\n",
       "         -46.9272748 ],\n",
       "        [-52.096063  ,  20.        , -50.47867473, -47.43231832,\n",
       "         -46.92129436],\n",
       "        [-52.08690808,  20.        , -50.46899631, -47.42595439,\n",
       "         -46.91531793],\n",
       "        [-52.07775912,  20.        , -50.4593254 , -47.41959474,\n",
       "         -46.9093455 ],\n",
       "        [-52.06861609,  20.        , -50.44966198, -47.41323939,\n",
       "         -46.90337707],\n",
       "        [-52.059479  ,  20.        , -50.44000607, -47.40688832,\n",
       "         -46.89741264]]),\n",
       " array([[0., 0., 0., 0., 0.],\n",
       "        [0., 0., 0., 0., 0.],\n",
       "        [0., 0., 0., 0., 0.],\n",
       "        [0., 0., 0., 0., 0.],\n",
       "        [0., 0., 0., 0., 0.],\n",
       "        [0., 0., 0., 0., 0.],\n",
       "        [0., 0., 0., 0., 0.],\n",
       "        [0., 0., 0., 0., 0.],\n",
       "        [0., 0., 0., 0., 0.],\n",
       "        [0., 0., 0., 0., 0.]]),\n",
       " array([[0., 0., 0., 0., 0.],\n",
       "        [0., 0., 0., 0., 0.],\n",
       "        [0., 0., 0., 0., 0.],\n",
       "        [0., 0., 0., 0., 0.],\n",
       "        [0., 0., 0., 0., 0.],\n",
       "        [0., 0., 0., 0., 0.],\n",
       "        [0., 0., 0., 0., 0.],\n",
       "        [0., 0., 0., 0., 0.],\n",
       "        [0., 0., 0., 0., 0.],\n",
       "        [0., 0., 0., 0., 0.]]),\n",
       " array([0. , 0.1, 0.2, 0.3, 0.4, 0.5, 0.6, 0.7, 0.8, 0.9]),\n",
       " array([[0., 0., 0., 0., 0.],\n",
       "        [0., 0., 0., 0., 0.],\n",
       "        [0., 0., 0., 0., 0.],\n",
       "        [0., 0., 0., 0., 0.],\n",
       "        [0., 0., 0., 0., 0.],\n",
       "        [0., 0., 0., 0., 0.],\n",
       "        [0., 0., 0., 0., 0.],\n",
       "        [0., 0., 0., 0., 0.],\n",
       "        [0., 0., 0., 0., 0.],\n",
       "        [0., 0., 0., 0., 0.]]),\n",
       " array([0., 0., 0., 0., 0., 0., 0., 0., 0., 0.]))"
      ]
     },
     "execution_count": 26,
     "metadata": {},
     "output_type": "execute_result"
    }
   ],
   "source": [
    "LIF = lif.LIF_Network(n_neurons=5)\n",
    "LIF.simulate(epoch_current_input=None)"
   ]
  },
  {
   "cell_type": "code",
   "execution_count": 39,
   "metadata": {},
   "outputs": [
    {
     "name": "stdout",
     "output_type": "stream",
     "text": [
      "[0 1 1]\n",
      "\n",
      "[[1 0 4]\n",
      " [4 4 1]\n",
      " [0 3 1]]\n",
      "\n",
      "[[3 4 1]\n",
      " [0 3 4]\n",
      " [2 3 2]]\n",
      "\n",
      "[4 7 2]\n",
      "[4 5 4]\n"
     ]
    }
   ],
   "source": [
    "vec_a = np.random.randint(low=0, high=5, size=3)\n",
    "mat_a = np.random.randint(low=0, high=5, size=(3, 3))\n",
    "mat_b = np.random.randint(low=0, high=5, size=(3, 3))\n",
    "\n",
    "print(vec_a)\n",
    "print()\n",
    "print(mat_a)\n",
    "print()\n",
    "print(mat_b)\n",
    "print()\n",
    "\n",
    "print(np.matmul(vec_a, mat_a))\n",
    "print(np.matmul(mat_a, vec_a))\n",
    "\n",
    "## Okay, so the order of matmul does matter, and it is okay to switch them."
   ]
  },
  {
   "cell_type": "code",
   "execution_count": 41,
   "metadata": {},
   "outputs": [
    {
     "name": "stdout",
     "output_type": "stream",
     "text": [
      "[[6 8 2]\n",
      " [0 6 8]\n",
      " [4 6 4]]\n"
     ]
    }
   ],
   "source": [
    "print(2 * mat_b)"
   ]
  },
  {
   "cell_type": "code",
   "execution_count": null,
   "metadata": {},
   "outputs": [],
   "source": []
  }
 ],
 "metadata": {
  "kernelspec": {
   "display_name": "datascience",
   "language": "python",
   "name": "python3"
  },
  "language_info": {
   "codemirror_mode": {
    "name": "ipython",
    "version": 3
   },
   "file_extension": ".py",
   "mimetype": "text/x-python",
   "name": "python",
   "nbconvert_exporter": "python",
   "pygments_lexer": "ipython3",
   "version": "3.7.13"
  },
  "orig_nbformat": 4,
  "vscode": {
   "interpreter": {
    "hash": "7c15afef78f50668981ba711ec2661f2a5596a86ec48569938de9a5d0b5f4743"
   }
  }
 },
 "nbformat": 4,
 "nbformat_minor": 2
}
