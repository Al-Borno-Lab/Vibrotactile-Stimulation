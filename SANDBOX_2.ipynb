{
 "cells": [
  {
   "cell_type": "code",
   "execution_count": 2,
   "metadata": {},
   "outputs": [
    {
     "data": {
      "image/png": "[encoded data removed]",
      "text/plain": [
       "<Figure size 640x480 with 1 Axes>"
      ]
     },
     "metadata": {},
     "output_type": "display_data"
    },
    {
     "name": "stdout",
     "output_type": "stream",
     "text": [
      "0\n",
      "1\n",
      "2\n",
      "3\n",
      "4\n",
      "5\n",
      "6\n",
      "7\n",
      "8\n",
      "9\n"
     ]
    }
   ],
   "source": [
    "import matplotlib.pyplot as plt\n",
    "import numpy as np\n",
    "\n",
    "# x = range(10)\n",
    "# y = x * 3\n",
    "x_np = np.arange(10)\n",
    "y_np = x_np * 3\n",
    "y_np = y_np[:3]\n",
    "\n",
    "fig, ax = plt.subplots()\n",
    "ax.scatter(x=np.arange(3), y=y_np)\n",
    "\n",
    "plt.show()\n",
    "\n",
    "for i in np.arange(10):\n",
    "    print(i)\n",
    "\n"
   ]
  },
  {
   "cell_type": "code",
   "execution_count": 19,
   "metadata": {},
   "outputs": [
    {
     "name": "stdout",
     "output_type": "stream",
     "text": [
      "20\n",
      "9.745339699599365\n",
      "5.729273723806959\n",
      "20\n",
      "0.48726698497996823\n",
      "0.28646368619034795\n",
      "0.48726698497996823\n",
      "0.28646368619034795\n"
     ]
    }
   ],
   "source": [
    "weight = np.random.random(size=(20))\n",
    "conn = np.random.choice(a=[0, 1], size=20)\n",
    "\n",
    "subset = weight[conn]\n",
    "print(len(subset))\n",
    "\n",
    "print(weight.sum())\n",
    "print(weight[conn].sum())\n",
    "print(len(subset.flatten()))\n",
    "print(weight.mean())\n",
    "print(weight[conn].mean())\n",
    "print(np.mean(weight))\n",
    "print(np.mean(weight[conn]))"
   ]
  },
  {
   "cell_type": "code",
   "execution_count": 72,
   "metadata": {},
   "outputs": [
    {
     "name": "stdout",
     "output_type": "stream",
     "text": [
      "0.5\n"
     ]
    },
    {
     "data": {
      "image/png": "[encoded data removed]",
      "text/plain": [
       "<Figure size 640x480 with 1 Axes>"
      ]
     },
     "metadata": {},
     "output_type": "display_data"
    }
   ],
   "source": [
    "## Testing numerical stability\n",
    "\n",
    "def random_conn(n:int=10, mean_w:float=0.5, proba_conn:float=0.07):\n",
    "    # conn_matrix = np.random.binomial(n=1, p=proba_conn, size=(n))\n",
    "    conn_matrix = np.random.choice([True, False], p=[proba_conn, 1-proba_conn], size=n)\n",
    "    w_matrix = np.random.random(size=(n))\n",
    "\n",
    "    connected_subset = w_matrix[conn_matrix]\n",
    "    connected_nn_mean = np.mean(connected_subset)\n",
    "    norm_scale = mean_w / connected_nn_mean\n",
    "    w_matrix = np.multiply(norm_scale, w_matrix)\n",
    "\n",
    "    # Mark non-connected as zero\n",
    "    w_matrix = np.multiply(conn_matrix, w_matrix)\n",
    "\n",
    "    return np.mean(w_matrix[conn_matrix])\n",
    "\n",
    "\n",
    "print(random_conn())\n",
    "\n",
    "\n",
    "fig, ax = plt.subplots()\n",
    "for i in range(100):\n",
    "    ax.scatter(x=i, y=random_conn(n=1000, mean_w=0.9))\n",
    "\n"
   ]
  },
  {
   "cell_type": "code",
   "execution_count": 69,
   "metadata": {},
   "outputs": [
    {
     "data": {
      "text/plain": [
       "0.0"
      ]
     },
     "execution_count": 69,
     "metadata": {},
     "output_type": "execute_result"
    }
   ],
   "source": [
    "5.5 * False"
   ]
  },
  {
   "cell_type": "code",
   "execution_count": 87,
   "metadata": {},
   "outputs": [
    {
     "name": "stdout",
     "output_type": "stream",
     "text": [
      "True\n",
      "bool\n"
     ]
    }
   ],
   "source": [
    "import numpy as np\n",
    "print(np.array([1, 2, 3, 4]).dtype is np.dtype(\"int64\"))\n",
    "\n",
    "print(np.array([True, False]).dtype)"
   ]
  },
  {
   "cell_type": "code",
   "execution_count": 8,
   "metadata": {},
   "outputs": [
    {
     "data": {
      "text/plain": [
       "array([[1.        , 1.        , 0.15783397, 1.        , 1.        ],\n",
       "       [1.        , 1.        , 1.        , 1.        , 1.        ],\n",
       "       [1.        , 1.        , 1.        , 1.        , 1.        ],\n",
       "       [1.        , 1.        , 1.        , 0.81013283, 1.        ],\n",
       "       [1.        , 1.        , 1.        , 0.45637487, 0.79501411]])"
      ]
     },
     "execution_count": 8,
     "metadata": {},
     "output_type": "execute_result"
    }
   ],
   "source": [
    "import numpy as np\n",
    "random_matrix = np.random.random(size=(5, 5)) * 10\n",
    "np.clip(random_matrix, a_min=0, a_max=1, out=random_matrix)\n",
    "\n",
    "random_matrix"
   ]
  },
  {
   "cell_type": "code",
   "execution_count": 8,
   "metadata": {},
   "outputs": [
    {
     "name": "stdout",
     "output_type": "stream",
     "text": [
      "[[0.20278696 0.53245958 0.94904217 0.65598735 0.89331142]\n",
      " [0.6079407  0.55330981 0.21254345 0.3043248  0.48258853]\n",
      " [0.21628393 0.58166599 0.13807727 0.66916059 0.39269949]\n",
      " [0.37408618 0.77382106 0.70617622 0.87073982 0.0234385 ]\n",
      " [0.74719854 0.52918236 0.95663305 0.25411667 0.53147165]]\n"
     ]
    }
   ],
   "source": [
    "import numpy as np\n",
    "\n",
    "mat = np.random.random(size=(5, 5))\n",
    "mat2 = np.empty(shape=(5, 5))\n",
    "\n",
    "print(mat2)"
   ]
  },
  {
   "cell_type": "code",
   "execution_count": 22,
   "metadata": {},
   "outputs": [
    {
     "name": "stdout",
     "output_type": "stream",
     "text": [
      "[ True  True False False False]\n",
      "[1 1 0 1 1]\n",
      "[ True  True False False False]\n",
      "an_array: [0 1 2 3 4]\n",
      "[0 1]\n"
     ]
    }
   ],
   "source": [
    "## This is a big problem, in Jesse and I's ipynb line 332, the spike flag mask is creating a list of number, which np interpretes as index instead of bool.\n",
    "\n",
    "import numpy as np\n",
    "\n",
    "v = np.random.random((5,))\n",
    "v_th = np.random.random((5, ))\n",
    "print(v > v_th)\n",
    "\n",
    "spike_flag = np.random.choice([0, 1], size=(5, ), p=[0.5, 0.5])\n",
    "print(spike_flag)\n",
    "\n",
    "sp = (v > v_th) * (spike_flag)\n",
    "sp = sp.astype(bool)\n",
    "print(sp)\n",
    "\n",
    "an_array = np.array(np.arange(5))\n",
    "print(f\"an_array: {an_array}\")\n",
    "\n",
    "print(an_array[sp])\n"
   ]
  },
  {
   "cell_type": "code",
   "execution_count": 9,
   "metadata": {},
   "outputs": [
    {
     "name": "stdout",
     "output_type": "stream",
     "text": [
      "rv: [0.6218225  0.30501898 0.30013877 0.13793903 0.72370737]\n",
      "clipped: 0.2\n"
     ]
    }
   ],
   "source": [
    "import numpy as np\n",
    "\n",
    "rv = np.random.random(size=5)\n",
    "clipped = np.clip(rv[3], a_min=0.2, a_max=0.4)\n",
    "\n",
    "print(f\"rv: {rv}\")\n",
    "print(f\"clipped: {clipped}\")"
   ]
  },
  {
   "cell_type": "code",
   "execution_count": 41,
   "metadata": {},
   "outputs": [],
   "source": [
    "import numpy as np\n",
    "\n",
    "class testClass():\n",
    "    def method1(self, kappa=8):\n",
    "        print(f\"method1: {kappa}\")\n",
    "        return kappa\n",
    "    def method2(self, kappa=400):\n",
    "        print(f\"method2: {kappa}\")\n",
    "\n",
    "    def append_to(self, element, to=[]):\n",
    "        to2 = to.copy()\n",
    "        to2.append(element)\n",
    "        to.append(element)\n",
    "        print(f\"Share memory?: {np.shares_memory(to2, to)}\")\n",
    "        return to\n",
    "    \n",
    "    def add_to(self, num, alpha=5):\n",
    "        alpha2 = alpha\n",
    "        alpha+=num\n",
    "        print(f\"Share memory?: {np.shares_memory(alpha2, alpha)}\")\n",
    "        return alpha\n",
    "    \n",
    "\n",
    "test = testClass()"
   ]
  },
  {
   "cell_type": "code",
   "execution_count": 42,
   "metadata": {},
   "outputs": [
    {
     "name": "stdout",
     "output_type": "stream",
     "text": [
      "Share memory?: False\n",
      "Share memory?: False\n"
     ]
    },
    {
     "data": {
      "text/plain": [
       "[5, 10]"
      ]
     },
     "execution_count": 42,
     "metadata": {},
     "output_type": "execute_result"
    }
   ],
   "source": [
    "test.append_to(5)\n",
    "test.append_to(10)"
   ]
  },
  {
   "cell_type": "code",
   "execution_count": 17,
   "metadata": {},
   "outputs": [],
   "source": [
    "def append_to(element, to=[]):\n",
    "    to.append(element)\n",
    "    return to"
   ]
  },
  {
   "cell_type": "code",
   "execution_count": 18,
   "metadata": {},
   "outputs": [
    {
     "name": "stdout",
     "output_type": "stream",
     "text": [
      "[12]\n",
      "[12, 42]\n"
     ]
    }
   ],
   "source": [
    "my_list = append_to(12)\n",
    "print(my_list)\n",
    "\n",
    "my_other_list = append_to(42)\n",
    "print(my_other_list)"
   ]
  },
  {
   "cell_type": "code",
   "execution_count": null,
   "metadata": {},
   "outputs": [],
   "source": []
  }
 ],
 "metadata": {
  "kernelspec": {
   "display_name": "ds",
   "language": "python",
   "name": "python3"
  },
  "language_info": {
   "codemirror_mode": {
    "name": "ipython",
    "version": 3
   },
   "file_extension": ".py",
   "mimetype": "text/x-python",
   "name": "python",
   "nbconvert_exporter": "python",
   "pygments_lexer": "ipython3",
   "version": "3.10.10"
  },
  "orig_nbformat": 4
 },
 "nbformat": 4,
 "nbformat_minor": 2
}
